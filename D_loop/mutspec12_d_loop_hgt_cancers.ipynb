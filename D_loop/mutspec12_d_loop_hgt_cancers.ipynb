{
 "cells": [
  {
   "cell_type": "markdown",
   "id": "f60f4f72",
   "metadata": {},
   "source": [
    "# MutSpec12 for Human Global Tree D-loop and cancer D-loop"
   ]
  },
  {
   "cell_type": "code",
   "execution_count": 1,
   "id": "f92a8581",
   "metadata": {},
   "outputs": [],
   "source": [
    "import pandas as pd\n",
    "import seaborn as sns\n",
    "import matplotlib.pyplot as plt\n",
    "\n",
    "%matplotlib inline"
   ]
  },
  {
   "cell_type": "markdown",
   "id": "fe4c52c0",
   "metadata": {},
   "source": [
    "**Data from HumanGlobalTree:**  \n",
    "(https://github.com/mitoclub/human-global-tree/blob/master/Body/2Derived/fulltreeCodons.csv)"
   ]
  },
  {
   "cell_type": "code",
   "execution_count": 4,
   "id": "2db850f6",
   "metadata": {},
   "outputs": [],
   "source": [
    "df = pd.read_table(r'C:\\Users\\777\\Downloads\\fulltreeCodons.csv', sep=';')"
   ]
  },
  {
   "cell_type": "code",
   "execution_count": 5,
   "id": "29100ad1",
   "metadata": {},
   "outputs": [
    {
     "data": {
      "text/html": [
       "<div>\n",
       "<style scoped>\n",
       "    .dataframe tbody tr th:only-of-type {\n",
       "        vertical-align: middle;\n",
       "    }\n",
       "\n",
       "    .dataframe tbody tr th {\n",
       "        vertical-align: top;\n",
       "    }\n",
       "\n",
       "    .dataframe thead th {\n",
       "        text-align: right;\n",
       "    }\n",
       "</style>\n",
       "<table border=\"1\" class=\"dataframe\">\n",
       "  <thead>\n",
       "    <tr style=\"text-align: right;\">\n",
       "      <th></th>\n",
       "      <th>first</th>\n",
       "      <th>second</th>\n",
       "      <th>position</th>\n",
       "      <th>ref_pos</th>\n",
       "      <th>ancestor</th>\n",
       "      <th>descendant</th>\n",
       "      <th>nuc_ref_in_ali</th>\n",
       "      <th>gene_info</th>\n",
       "      <th>gene_start</th>\n",
       "      <th>pos_in_codon</th>\n",
       "      <th>synonymous</th>\n",
       "      <th>ancestral_aa</th>\n",
       "      <th>derived_aa</th>\n",
       "      <th>note</th>\n",
       "      <th>ancestral_codon</th>\n",
       "      <th>derived_codon</th>\n",
       "    </tr>\n",
       "  </thead>\n",
       "  <tbody>\n",
       "    <tr>\n",
       "      <th>0</th>\n",
       "      <td>28409</td>\n",
       "      <td>AM_PR_0048</td>\n",
       "      <td>174</td>\n",
       "      <td>150</td>\n",
       "      <td>ttTc-</td>\n",
       "      <td>ttCc-</td>\n",
       "      <td>C</td>\n",
       "      <td>D-loop_2</td>\n",
       "      <td>NaN</td>\n",
       "      <td>NaN</td>\n",
       "      <td>NaN</td>\n",
       "      <td>NaN</td>\n",
       "      <td>NaN</td>\n",
       "      <td>non-coding</td>\n",
       "      <td>NaN</td>\n",
       "      <td>NaN</td>\n",
       "    </tr>\n",
       "    <tr>\n",
       "      <th>1</th>\n",
       "      <td>28409</td>\n",
       "      <td>AM_PR_0048</td>\n",
       "      <td>593</td>\n",
       "      <td>522</td>\n",
       "      <td>acTc-</td>\n",
       "      <td>acAc-</td>\n",
       "      <td>A</td>\n",
       "      <td>D-loop_2</td>\n",
       "      <td>NaN</td>\n",
       "      <td>NaN</td>\n",
       "      <td>NaN</td>\n",
       "      <td>NaN</td>\n",
       "      <td>NaN</td>\n",
       "      <td>non-coding</td>\n",
       "      <td>NaN</td>\n",
       "      <td>NaN</td>\n",
       "    </tr>\n",
       "    <tr>\n",
       "      <th>2</th>\n",
       "      <td>28409</td>\n",
       "      <td>AM_PR_0048</td>\n",
       "      <td>5007</td>\n",
       "      <td>4840</td>\n",
       "      <td>ctAac</td>\n",
       "      <td>ctGac</td>\n",
       "      <td>G</td>\n",
       "      <td>mRNA_ND2</td>\n",
       "      <td>4469.0</td>\n",
       "      <td>3.0</td>\n",
       "      <td>synonymous</td>\n",
       "      <td>Leu</td>\n",
       "      <td>Leu</td>\n",
       "      <td>normal</td>\n",
       "      <td>ctA</td>\n",
       "      <td>ctG</td>\n",
       "    </tr>\n",
       "    <tr>\n",
       "      <th>3</th>\n",
       "      <td>28409</td>\n",
       "      <td>AM_PR_0048</td>\n",
       "      <td>7971</td>\n",
       "      <td>7774</td>\n",
       "      <td>ccGtc</td>\n",
       "      <td>ccRtc</td>\n",
       "      <td>G</td>\n",
       "      <td>mRNA_COX2</td>\n",
       "      <td>7585.0</td>\n",
       "      <td>1.0</td>\n",
       "      <td>non-synonymous</td>\n",
       "      <td>Val</td>\n",
       "      <td>Ambiguous</td>\n",
       "      <td>normal</td>\n",
       "      <td>Gtc</td>\n",
       "      <td>Rtc</td>\n",
       "    </tr>\n",
       "    <tr>\n",
       "      <th>4</th>\n",
       "      <td>28409</td>\n",
       "      <td>AM_PR_0048</td>\n",
       "      <td>8017</td>\n",
       "      <td>7820</td>\n",
       "      <td>ccCat</td>\n",
       "      <td>ccMat</td>\n",
       "      <td>C</td>\n",
       "      <td>mRNA_COX2</td>\n",
       "      <td>7585.0</td>\n",
       "      <td>2.0</td>\n",
       "      <td>non-synonymous</td>\n",
       "      <td>Pro</td>\n",
       "      <td>Ambiguous</td>\n",
       "      <td>normal</td>\n",
       "      <td>cCa</td>\n",
       "      <td>cMa</td>\n",
       "    </tr>\n",
       "  </tbody>\n",
       "</table>\n",
       "</div>"
      ],
      "text/plain": [
       "   first      second  position  ref_pos ancestor descendant nuc_ref_in_ali  \\\n",
       "0  28409  AM_PR_0048       174      150    ttTc-      ttCc-              C   \n",
       "1  28409  AM_PR_0048       593      522    acTc-      acAc-              A   \n",
       "2  28409  AM_PR_0048      5007     4840    ctAac      ctGac              G   \n",
       "3  28409  AM_PR_0048      7971     7774    ccGtc      ccRtc              G   \n",
       "4  28409  AM_PR_0048      8017     7820    ccCat      ccMat              C   \n",
       "\n",
       "   gene_info  gene_start  pos_in_codon      synonymous ancestral_aa  \\\n",
       "0   D-loop_2         NaN           NaN             NaN          NaN   \n",
       "1   D-loop_2         NaN           NaN             NaN          NaN   \n",
       "2   mRNA_ND2      4469.0           3.0      synonymous          Leu   \n",
       "3  mRNA_COX2      7585.0           1.0  non-synonymous          Val   \n",
       "4  mRNA_COX2      7585.0           2.0  non-synonymous          Pro   \n",
       "\n",
       "  derived_aa        note ancestral_codon derived_codon  \n",
       "0        NaN  non-coding             NaN           NaN  \n",
       "1        NaN  non-coding             NaN           NaN  \n",
       "2        Leu      normal             ctA           ctG  \n",
       "3  Ambiguous      normal             Gtc           Rtc  \n",
       "4  Ambiguous      normal             cCa           cMa  "
      ]
     },
     "execution_count": 5,
     "metadata": {},
     "output_type": "execute_result"
    }
   ],
   "source": [
    "df.head()"
   ]
  },
  {
   "cell_type": "markdown",
   "id": "eefcc5d9",
   "metadata": {},
   "source": [
    "**Extract only *D-loop* and mutations *without gaps (-) and other (R, M, N, ect) bases* in context:**"
   ]
  },
  {
   "cell_type": "code",
   "execution_count": 6,
   "id": "4be2082f",
   "metadata": {},
   "outputs": [],
   "source": [
    "D_loop_df = df[\n",
    "    (df.ancestor.str.lower().str.fullmatch(\"[acgt]{5}\")) &\n",
    "    (df.descendant.str.lower().str.fullmatch(\"[acgt]{5}\")) &\n",
    "    (df.ancestor.str.slice(0, 2) == df.descendant.str.slice(0, 2)) &\n",
    "    (df.ancestor.str.slice(3, 5) == df.descendant.str.slice(3, 5)) &\n",
    "    (df.gene_info.str.startswith(\"D-loop\"))\n",
    "]"
   ]
  },
  {
   "cell_type": "code",
   "execution_count": 7,
   "id": "1c3e9e24",
   "metadata": {},
   "outputs": [],
   "source": [
    "D_loop_df = D_loop_df.drop(['gene_start', 'pos_in_codon',\n",
    "       'synonymous', 'ancestral_aa', 'derived_aa', 'note', 'ancestral_codon',\n",
    "       'derived_codon'], axis=1)"
   ]
  },
  {
   "cell_type": "code",
   "execution_count": 8,
   "id": "506e3aae",
   "metadata": {
    "scrolled": false
   },
   "outputs": [
    {
     "data": {
      "text/html": [
       "<div>\n",
       "<style scoped>\n",
       "    .dataframe tbody tr th:only-of-type {\n",
       "        vertical-align: middle;\n",
       "    }\n",
       "\n",
       "    .dataframe tbody tr th {\n",
       "        vertical-align: top;\n",
       "    }\n",
       "\n",
       "    .dataframe thead th {\n",
       "        text-align: right;\n",
       "    }\n",
       "</style>\n",
       "<table border=\"1\" class=\"dataframe\">\n",
       "  <thead>\n",
       "    <tr style=\"text-align: right;\">\n",
       "      <th></th>\n",
       "      <th>first</th>\n",
       "      <th>second</th>\n",
       "      <th>position</th>\n",
       "      <th>ref_pos</th>\n",
       "      <th>ancestor</th>\n",
       "      <th>descendant</th>\n",
       "      <th>nuc_ref_in_ali</th>\n",
       "      <th>gene_info</th>\n",
       "    </tr>\n",
       "  </thead>\n",
       "  <tbody>\n",
       "    <tr>\n",
       "      <th>9</th>\n",
       "      <td>17837</td>\n",
       "      <td>EU_IT_0648</td>\n",
       "      <td>354</td>\n",
       "      <td>309</td>\n",
       "      <td>ccTcc</td>\n",
       "      <td>ccCcc</td>\n",
       "      <td>T</td>\n",
       "      <td>D-loop_2</td>\n",
       "    </tr>\n",
       "    <tr>\n",
       "      <th>24</th>\n",
       "      <td>29187</td>\n",
       "      <td>AM_GL_0001</td>\n",
       "      <td>16396</td>\n",
       "      <td>16128</td>\n",
       "      <td>acAgt</td>\n",
       "      <td>acGgt</td>\n",
       "      <td>G</td>\n",
       "      <td>D-loop_1</td>\n",
       "    </tr>\n",
       "    <tr>\n",
       "      <th>32</th>\n",
       "      <td>33133</td>\n",
       "      <td>7947</td>\n",
       "      <td>16497</td>\n",
       "      <td>16217</td>\n",
       "      <td>atCaa</td>\n",
       "      <td>atTaa</td>\n",
       "      <td>C</td>\n",
       "      <td>D-loop_1</td>\n",
       "    </tr>\n",
       "    <tr>\n",
       "      <th>36</th>\n",
       "      <td>8198</td>\n",
       "      <td>AF_BF_0099</td>\n",
       "      <td>16809</td>\n",
       "      <td>16518</td>\n",
       "      <td>ggTca</td>\n",
       "      <td>ggCca</td>\n",
       "      <td>T</td>\n",
       "      <td>D-loop_1</td>\n",
       "    </tr>\n",
       "    <tr>\n",
       "      <th>39</th>\n",
       "      <td>30275</td>\n",
       "      <td>OC_SB_0512</td>\n",
       "      <td>16575</td>\n",
       "      <td>16291</td>\n",
       "      <td>ccCac</td>\n",
       "      <td>ccTac</td>\n",
       "      <td>C</td>\n",
       "      <td>D-loop_1</td>\n",
       "    </tr>\n",
       "  </tbody>\n",
       "</table>\n",
       "</div>"
      ],
      "text/plain": [
       "    first      second  position  ref_pos ancestor descendant nuc_ref_in_ali  \\\n",
       "9   17837  EU_IT_0648       354      309    ccTcc      ccCcc              T   \n",
       "24  29187  AM_GL_0001     16396    16128    acAgt      acGgt              G   \n",
       "32  33133        7947     16497    16217    atCaa      atTaa              C   \n",
       "36   8198  AF_BF_0099     16809    16518    ggTca      ggCca              T   \n",
       "39  30275  OC_SB_0512     16575    16291    ccCac      ccTac              C   \n",
       "\n",
       "   gene_info  \n",
       "9   D-loop_2  \n",
       "24  D-loop_1  \n",
       "32  D-loop_1  \n",
       "36  D-loop_1  \n",
       "39  D-loop_1  "
      ]
     },
     "execution_count": 8,
     "metadata": {},
     "output_type": "execute_result"
    }
   ],
   "source": [
    "D_loop_df.head()"
   ]
  },
  {
   "cell_type": "markdown",
   "id": "d3ac9334",
   "metadata": {},
   "source": [
    "**Reference for calculated *Expected Mutations* in D-loop:**"
   ]
  },
  {
   "cell_type": "code",
   "execution_count": 9,
   "id": "f0f3d5f0",
   "metadata": {},
   "outputs": [],
   "source": [
    "ref = pd.read_table(r'C:\\Users\\777\\Downloads\\ref_annot.csv', sep=',')"
   ]
  },
  {
   "cell_type": "code",
   "execution_count": 10,
   "id": "8754ef5c",
   "metadata": {},
   "outputs": [],
   "source": [
    "ref_D_loop = ref[ref.Type == 'D-loop'].Nuc.value_counts()"
   ]
  },
  {
   "cell_type": "code",
   "execution_count": 11,
   "id": "5f75eca9",
   "metadata": {},
   "outputs": [
    {
     "data": {
      "text/plain": [
       "C    371\n",
       "A    339\n",
       "T    260\n",
       "G    152\n",
       "Name: Nuc, dtype: int64"
      ]
     },
     "execution_count": 11,
     "metadata": {},
     "output_type": "execute_result"
    }
   ],
   "source": [
    "ref_D_loop"
   ]
  },
  {
   "cell_type": "markdown",
   "id": "6d0d70a8",
   "metadata": {},
   "source": [
    "---"
   ]
  },
  {
   "cell_type": "code",
   "execution_count": 12,
   "id": "646ba1bb",
   "metadata": {},
   "outputs": [],
   "source": [
    "complementator = str.maketrans(\"ACGT\", \"TGCA\") #for adding heavy chain\n",
    "\n",
    "\n",
    "def getMutSpec12(df):\n",
    "    \n",
    "    '''\n",
    "    for HumanGlobalTree df\n",
    "    '''\n",
    "    \n",
    "    # Counting observed mutations in D-loop\n",
    "    observed_mut = (df.ancestor.str[2] + '>' + df.descendant.str[2]) \\\n",
    "    .value_counts() \\\n",
    "    .reset_index() \\\n",
    "    .rename(columns={'index':'Mut', 0: \"ObsNum\"})\n",
    "    \n",
    "    # Counting normalized/adjusted MutSpec\n",
    "    observed_mut = observed_mut.sort_values(\"Mut\")\n",
    "    observed_mut[\"ExpNum\"] = ref_D_loop.sort_index().values.repeat(3)\n",
    "    observed_mut['MutSpec'] = observed_mut[\"ObsNum\"] / observed_mut[\"ExpNum\"]\n",
    "    observed_mut[\"MutSpec\"] = observed_mut[\"MutSpec\"] / observed_mut[\"MutSpec\"].sum()\n",
    "\n",
    "    #Add heavy chain\n",
    "    observed_mut[\"MutHeavy\"] = observed_mut[\"Mut\"].str.translate(complementator)\n",
    "    \n",
    "    \n",
    "    return observed_mut"
   ]
  },
  {
   "cell_type": "code",
   "execution_count": 20,
   "id": "cdaab157",
   "metadata": {
    "scrolled": true
   },
   "outputs": [],
   "source": [
    "# def heavy_chain_column(df, column_name):\n",
    "#     column = []\n",
    "#     for i in df.Mut:\n",
    "#         row = []\n",
    "#         for x in i:\n",
    "#             if x == 'A':\n",
    "#                 row.append('T')\n",
    "#             elif x == 'T':\n",
    "#                 row.append('A')\n",
    "#             elif x == 'G':\n",
    "#                 row.append('C')\n",
    "#             elif x == 'C':\n",
    "#                 row.append('G')\n",
    "#             else:\n",
    "#                 row.append('>')\n",
    "#         row = ''.join(row)\n",
    "#         column.append(row)\n",
    "    \n",
    "#     df[column_name] = column"
   ]
  },
  {
   "cell_type": "markdown",
   "id": "fedc532d",
   "metadata": {},
   "source": [
    "Variables for plots:"
   ]
  },
  {
   "cell_type": "code",
   "execution_count": 13,
   "id": "3f0cbaa1",
   "metadata": {},
   "outputs": [],
   "source": [
    "sbs12_ordered = [\"C>A\", \"G>T\", \"C>G\", \"G>C\", \"C>T\", \"G>A\", \"T>A\", \"A>T\", \"T>C\", \"A>G\", \"T>G\", \"A>C\"]"
   ]
  },
  {
   "cell_type": "code",
   "execution_count": 14,
   "id": "dd91379f",
   "metadata": {},
   "outputs": [],
   "source": [
    "color_mapping12 = {\n",
    "    \"C>A\": \"deepskyblue\",\n",
    "    \"G>T\": \"deepskyblue\",\n",
    "    \"C>G\": \"black\",\n",
    "    \"G>C\": \"black\",\n",
    "    \"C>T\": \"red\",\n",
    "    \"G>A\": \"red\",\n",
    "    \"T>A\": \"silver\",\n",
    "    \"A>T\": \"silver\",\n",
    "    \"T>C\": \"yellowgreen\",\n",
    "    \"A>G\": \"yellowgreen\",\n",
    "    \"T>G\": \"pink\",\n",
    "    \"A>C\": \"pink\",\n",
    "}"
   ]
  },
  {
   "cell_type": "markdown",
   "id": "d9eb48d6",
   "metadata": {},
   "source": [
    "---"
   ]
  },
  {
   "cell_type": "markdown",
   "id": "a5b4a6bc",
   "metadata": {},
   "source": [
    "### MutSpec D-loop for *all* Human Global Tree (HGT):"
   ]
  },
  {
   "cell_type": "code",
   "execution_count": 15,
   "id": "7493f8af",
   "metadata": {},
   "outputs": [],
   "source": [
    "ms12_alltree = getMutSpec12(D_loop_df)"
   ]
  },
  {
   "cell_type": "code",
   "execution_count": 19,
   "id": "2c9df739",
   "metadata": {},
   "outputs": [
    {
     "data": {
      "text/plain": [
       "[Text(0.5, 1.0, 'D-loop all tree')]"
      ]
     },
     "execution_count": 19,
     "metadata": {},
     "output_type": "execute_result"
    },
    {
     "data": {
      "image/png": "[encoded data removed]",
      "text/plain": [
       "<Figure size 640x480 with 1 Axes>"
      ]
     },
     "metadata": {},
     "output_type": "display_data"
    }
   ],
   "source": [
    "sns.barplot(data=ms12_alltree, x='MutHeavy', y='MutSpec', order=sbs12_ordered, palette=color_mapping12) \\\n",
    "    .set(title='D-loop all tree')"
   ]
  },
  {
   "cell_type": "markdown",
   "id": "d49f2d07",
   "metadata": {},
   "source": [
    "### MutSpec for *terminal* nodes in HGT:"
   ]
  },
  {
   "cell_type": "code",
   "execution_count": 21,
   "id": "3668e2a9",
   "metadata": {},
   "outputs": [],
   "source": [
    "terminal_D_loop_df = D_loop_df[D_loop_df['second'].str.match('[A-Z]')]"
   ]
  },
  {
   "cell_type": "code",
   "execution_count": 23,
   "id": "f89d51b0",
   "metadata": {},
   "outputs": [
    {
     "data": {
      "text/plain": [
       "[Text(0.5, 1.0, 'Terminal MutSpec')]"
      ]
     },
     "execution_count": 23,
     "metadata": {},
     "output_type": "execute_result"
    },
    {
     "data": {
      "image/png": "[encoded data removed]",
      "text/plain": [
       "<Figure size 640x480 with 1 Axes>"
      ]
     },
     "metadata": {},
     "output_type": "display_data"
    }
   ],
   "source": [
    "observed_mut_terminal = getMutSpec12(terminal_D_loop_df)\n",
    "sns.barplot(data=observed_mut_terminal, x='MutHeavy', y='MutSpec', order=sbs12_ordered, palette=color_mapping12) \\\n",
    "    .set(title='Terminal MutSpec')"
   ]
  },
  {
   "cell_type": "markdown",
   "id": "ccd33a43",
   "metadata": {},
   "source": [
    "### MutSpec for *pre-terminal* nodes in HGT:"
   ]
  },
  {
   "cell_type": "code",
   "execution_count": 24,
   "id": "dfd8f5f7",
   "metadata": {
    "scrolled": true
   },
   "outputs": [],
   "source": [
    "pre_terminals = D_loop_df[D_loop_df['second'].str.match('[A-Z]')]['first'].unique().tolist()"
   ]
  },
  {
   "cell_type": "code",
   "execution_count": 25,
   "id": "ea84bea9",
   "metadata": {},
   "outputs": [],
   "source": [
    "pre_terminals = list(map(str, pre_terminals))"
   ]
  },
  {
   "cell_type": "code",
   "execution_count": 26,
   "id": "15d03c97",
   "metadata": {},
   "outputs": [],
   "source": [
    "pre_terminal_D_loop_df = D_loop_df[D_loop_df['second'].isin(pre_terminals)]"
   ]
  },
  {
   "cell_type": "code",
   "execution_count": 27,
   "id": "759ad76f",
   "metadata": {},
   "outputs": [
    {
     "data": {
      "text/plain": [
       "[Text(0.5, 1.0, 'Pre_terminal MutSpec')]"
      ]
     },
     "execution_count": 27,
     "metadata": {},
     "output_type": "execute_result"
    },
    {
     "data": {
      "image/png": "[encoded data removed]",
      "text/plain": [
       "<Figure size 640x480 with 1 Axes>"
      ]
     },
     "metadata": {},
     "output_type": "display_data"
    }
   ],
   "source": [
    "observed_mut_pre_terminal = getMutSpec12(pre_terminal_D_loop_df)\n",
    "sns.barplot(data=observed_mut_pre_terminal, x='MutHeavy', y='MutSpec', order=sbs12_ordered, palette=color_mapping12) \\\n",
    "    .set(title='Pre_terminal MutSpec')"
   ]
  },
  {
   "cell_type": "markdown",
   "id": "0ba084fb",
   "metadata": {},
   "source": [
    "### MutSpec for *other inner* nodes in HGT:\n",
    "(terminal and pre_terminal nodes excluded)"
   ]
  },
  {
   "cell_type": "code",
   "execution_count": 28,
   "id": "39d79784",
   "metadata": {},
   "outputs": [],
   "source": [
    "other_nods_D_loop_df = D_loop_df[~(D_loop_df['second'].isin(terminal_D_loop_df['second'])) & (~D_loop_df['second'].isin(pre_terminal_D_loop_df['second']))]"
   ]
  },
  {
   "cell_type": "code",
   "execution_count": 29,
   "id": "30854d60",
   "metadata": {},
   "outputs": [
    {
     "data": {
      "text/plain": [
       "[Text(0.5, 1.0, 'Other inner nodes MutSpec')]"
      ]
     },
     "execution_count": 29,
     "metadata": {},
     "output_type": "execute_result"
    },
    {
     "data": {
      "image/png": "[encoded data removed]",
      "text/plain": [
       "<Figure size 640x480 with 1 Axes>"
      ]
     },
     "metadata": {},
     "output_type": "display_data"
    }
   ],
   "source": [
    "observed_mut_other_nods = getMutSpec12(other_nods_D_loop_df)\n",
    "sns.barplot(data=observed_mut_other_nods, x='MutHeavy', y='MutSpec', order=sbs12_ordered, palette=color_mapping12) \\\n",
    "    .set(title='Other inner nodes MutSpec')"
   ]
  },
  {
   "cell_type": "markdown",
   "id": "35bacc72",
   "metadata": {},
   "source": [
    "## Sampling/bootstrap data"
   ]
  },
  {
   "cell_type": "code",
   "execution_count": 30,
   "id": "be5a3738",
   "metadata": {
    "scrolled": false
   },
   "outputs": [
    {
     "data": {
      "text/plain": [
       "[Text(0.5, 1.0, 'Number of mutations on edge'),\n",
       " Text(0.5, 0, 'Mutations on edge')]"
      ]
     },
     "execution_count": 30,
     "metadata": {},
     "output_type": "execute_result"
    },
    {
     "data": {
      "image/png": "[encoded data removed]",
      "text/plain": [
       "<Figure size 640x480 with 1 Axes>"
      ]
     },
     "metadata": {},
     "output_type": "display_data"
    }
   ],
   "source": [
    "D_loop_df[\"second\"].value_counts().hist(bins=27).set(title='Number of mutations on edge', xlabel='Mutations on edge')"
   ]
  },
  {
   "cell_type": "markdown",
   "id": "0f1304e7",
   "metadata": {},
   "source": [
    "Mostly we have less than 5 mutations on edge in D-loop  \n",
    "\n",
    "\n",
    "### MutSpec for booted data all HGT:"
   ]
  },
  {
   "cell_type": "code",
   "execution_count": 32,
   "id": "9886f664",
   "metadata": {},
   "outputs": [],
   "source": [
    "sampling_ms = []\n",
    "for i in range(1000): \n",
    "    smlp = D_loop_df.sample(frac=1, replace=True)\n",
    "    ms = getMutSpec12(smlp)\n",
    "    sampling_ms.append(ms)"
   ]
  },
  {
   "cell_type": "code",
   "execution_count": 33,
   "id": "7df74d9e",
   "metadata": {},
   "outputs": [],
   "source": [
    "df_sampling = pd.concat(sampling_ms)"
   ]
  },
  {
   "cell_type": "code",
   "execution_count": 34,
   "id": "6ad8b495",
   "metadata": {},
   "outputs": [
    {
     "data": {
      "text/html": [
       "<div>\n",
       "<style scoped>\n",
       "    .dataframe tbody tr th:only-of-type {\n",
       "        vertical-align: middle;\n",
       "    }\n",
       "\n",
       "    .dataframe tbody tr th {\n",
       "        vertical-align: top;\n",
       "    }\n",
       "\n",
       "    .dataframe thead th {\n",
       "        text-align: right;\n",
       "    }\n",
       "</style>\n",
       "<table border=\"1\" class=\"dataframe\">\n",
       "  <thead>\n",
       "    <tr style=\"text-align: right;\">\n",
       "      <th></th>\n",
       "      <th>count</th>\n",
       "      <th>mean</th>\n",
       "      <th>std</th>\n",
       "      <th>min</th>\n",
       "      <th>25%</th>\n",
       "      <th>50%</th>\n",
       "      <th>75%</th>\n",
       "      <th>max</th>\n",
       "    </tr>\n",
       "    <tr>\n",
       "      <th>MutHeavy</th>\n",
       "      <th></th>\n",
       "      <th></th>\n",
       "      <th></th>\n",
       "      <th></th>\n",
       "      <th></th>\n",
       "      <th></th>\n",
       "      <th></th>\n",
       "      <th></th>\n",
       "    </tr>\n",
       "  </thead>\n",
       "  <tbody>\n",
       "    <tr>\n",
       "      <th>A&gt;C</th>\n",
       "      <td>1000.0</td>\n",
       "      <td>0.001284</td>\n",
       "      <td>0.000100</td>\n",
       "      <td>0.000934</td>\n",
       "      <td>0.001216</td>\n",
       "      <td>0.001287</td>\n",
       "      <td>0.001351</td>\n",
       "      <td>0.001618</td>\n",
       "    </tr>\n",
       "    <tr>\n",
       "      <th>A&gt;G</th>\n",
       "      <td>1000.0</td>\n",
       "      <td>0.354103</td>\n",
       "      <td>0.001355</td>\n",
       "      <td>0.349869</td>\n",
       "      <td>0.353234</td>\n",
       "      <td>0.354077</td>\n",
       "      <td>0.354994</td>\n",
       "      <td>0.357982</td>\n",
       "    </tr>\n",
       "    <tr>\n",
       "      <th>A&gt;T</th>\n",
       "      <td>1000.0</td>\n",
       "      <td>0.005135</td>\n",
       "      <td>0.000203</td>\n",
       "      <td>0.004355</td>\n",
       "      <td>0.004995</td>\n",
       "      <td>0.005124</td>\n",
       "      <td>0.005266</td>\n",
       "      <td>0.005976</td>\n",
       "    </tr>\n",
       "    <tr>\n",
       "      <th>C&gt;A</th>\n",
       "      <td>1000.0</td>\n",
       "      <td>0.002747</td>\n",
       "      <td>0.000195</td>\n",
       "      <td>0.002025</td>\n",
       "      <td>0.002617</td>\n",
       "      <td>0.002752</td>\n",
       "      <td>0.002874</td>\n",
       "      <td>0.003347</td>\n",
       "    </tr>\n",
       "    <tr>\n",
       "      <th>C&gt;G</th>\n",
       "      <td>1000.0</td>\n",
       "      <td>0.005057</td>\n",
       "      <td>0.000265</td>\n",
       "      <td>0.004268</td>\n",
       "      <td>0.004887</td>\n",
       "      <td>0.005052</td>\n",
       "      <td>0.005223</td>\n",
       "      <td>0.006076</td>\n",
       "    </tr>\n",
       "    <tr>\n",
       "      <th>C&gt;T</th>\n",
       "      <td>1000.0</td>\n",
       "      <td>0.250173</td>\n",
       "      <td>0.001489</td>\n",
       "      <td>0.245304</td>\n",
       "      <td>0.249240</td>\n",
       "      <td>0.250162</td>\n",
       "      <td>0.251150</td>\n",
       "      <td>0.255101</td>\n",
       "    </tr>\n",
       "    <tr>\n",
       "      <th>G&gt;A</th>\n",
       "      <td>1000.0</td>\n",
       "      <td>0.234044</td>\n",
       "      <td>0.001074</td>\n",
       "      <td>0.230405</td>\n",
       "      <td>0.233327</td>\n",
       "      <td>0.234015</td>\n",
       "      <td>0.234749</td>\n",
       "      <td>0.237479</td>\n",
       "    </tr>\n",
       "    <tr>\n",
       "      <th>G&gt;C</th>\n",
       "      <td>1000.0</td>\n",
       "      <td>0.002242</td>\n",
       "      <td>0.000115</td>\n",
       "      <td>0.001900</td>\n",
       "      <td>0.002167</td>\n",
       "      <td>0.002237</td>\n",
       "      <td>0.002318</td>\n",
       "      <td>0.002606</td>\n",
       "    </tr>\n",
       "    <tr>\n",
       "      <th>G&gt;T</th>\n",
       "      <td>1000.0</td>\n",
       "      <td>0.015406</td>\n",
       "      <td>0.000286</td>\n",
       "      <td>0.014539</td>\n",
       "      <td>0.015217</td>\n",
       "      <td>0.015407</td>\n",
       "      <td>0.015589</td>\n",
       "      <td>0.016404</td>\n",
       "    </tr>\n",
       "    <tr>\n",
       "      <th>T&gt;A</th>\n",
       "      <td>1000.0</td>\n",
       "      <td>0.004189</td>\n",
       "      <td>0.000159</td>\n",
       "      <td>0.003528</td>\n",
       "      <td>0.004080</td>\n",
       "      <td>0.004197</td>\n",
       "      <td>0.004287</td>\n",
       "      <td>0.004812</td>\n",
       "    </tr>\n",
       "    <tr>\n",
       "      <th>T&gt;C</th>\n",
       "      <td>1000.0</td>\n",
       "      <td>0.107597</td>\n",
       "      <td>0.000784</td>\n",
       "      <td>0.105371</td>\n",
       "      <td>0.107084</td>\n",
       "      <td>0.107617</td>\n",
       "      <td>0.108092</td>\n",
       "      <td>0.109912</td>\n",
       "    </tr>\n",
       "    <tr>\n",
       "      <th>T&gt;G</th>\n",
       "      <td>1000.0</td>\n",
       "      <td>0.018024</td>\n",
       "      <td>0.000334</td>\n",
       "      <td>0.017045</td>\n",
       "      <td>0.017795</td>\n",
       "      <td>0.018034</td>\n",
       "      <td>0.018264</td>\n",
       "      <td>0.019073</td>\n",
       "    </tr>\n",
       "  </tbody>\n",
       "</table>\n",
       "</div>"
      ],
      "text/plain": [
       "           count      mean       std       min       25%       50%       75%  \\\n",
       "MutHeavy                                                                       \n",
       "A>C       1000.0  0.001284  0.000100  0.000934  0.001216  0.001287  0.001351   \n",
       "A>G       1000.0  0.354103  0.001355  0.349869  0.353234  0.354077  0.354994   \n",
       "A>T       1000.0  0.005135  0.000203  0.004355  0.004995  0.005124  0.005266   \n",
       "C>A       1000.0  0.002747  0.000195  0.002025  0.002617  0.002752  0.002874   \n",
       "C>G       1000.0  0.005057  0.000265  0.004268  0.004887  0.005052  0.005223   \n",
       "C>T       1000.0  0.250173  0.001489  0.245304  0.249240  0.250162  0.251150   \n",
       "G>A       1000.0  0.234044  0.001074  0.230405  0.233327  0.234015  0.234749   \n",
       "G>C       1000.0  0.002242  0.000115  0.001900  0.002167  0.002237  0.002318   \n",
       "G>T       1000.0  0.015406  0.000286  0.014539  0.015217  0.015407  0.015589   \n",
       "T>A       1000.0  0.004189  0.000159  0.003528  0.004080  0.004197  0.004287   \n",
       "T>C       1000.0  0.107597  0.000784  0.105371  0.107084  0.107617  0.108092   \n",
       "T>G       1000.0  0.018024  0.000334  0.017045  0.017795  0.018034  0.018264   \n",
       "\n",
       "               max  \n",
       "MutHeavy            \n",
       "A>C       0.001618  \n",
       "A>G       0.357982  \n",
       "A>T       0.005976  \n",
       "C>A       0.003347  \n",
       "C>G       0.006076  \n",
       "C>T       0.255101  \n",
       "G>A       0.237479  \n",
       "G>C       0.002606  \n",
       "G>T       0.016404  \n",
       "T>A       0.004812  \n",
       "T>C       0.109912  \n",
       "T>G       0.019073  "
      ]
     },
     "execution_count": 34,
     "metadata": {},
     "output_type": "execute_result"
    }
   ],
   "source": [
    "df_sampling.groupby(['MutHeavy']).MutSpec.describe()"
   ]
  },
  {
   "cell_type": "code",
   "execution_count": 35,
   "id": "536bb809",
   "metadata": {},
   "outputs": [
    {
     "data": {
      "text/plain": [
       "[Text(0.5, 1.0, 'MutSpec boot full tree')]"
      ]
     },
     "execution_count": 35,
     "metadata": {},
     "output_type": "execute_result"
    },
    {
     "data": {
      "image/png": "[encoded data removed]",
      "text/plain": [
       "<Figure size 640x480 with 1 Axes>"
      ]
     },
     "metadata": {},
     "output_type": "display_data"
    }
   ],
   "source": [
    "sns.barplot(data=df_sampling, x='MutHeavy', y='MutSpec', order=sbs12_ordered, palette=color_mapping12, ci='sd') \\\n",
    "    .set(title='MutSpec boot full tree')"
   ]
  },
  {
   "cell_type": "markdown",
   "id": "7792632f",
   "metadata": {},
   "source": [
    "### MutSpec for booted inner nodes in HGT:\n",
    "(terminal nodes excluded)"
   ]
  },
  {
   "cell_type": "code",
   "execution_count": 36,
   "id": "e879bccb",
   "metadata": {},
   "outputs": [],
   "source": [
    "df_exclude_terminal = D_loop_df[~(D_loop_df['second'].isin(terminal_D_loop_df['second']))]"
   ]
  },
  {
   "cell_type": "code",
   "execution_count": 38,
   "id": "3ac8972d",
   "metadata": {},
   "outputs": [],
   "source": [
    "sampling_ms_et = []\n",
    "for i in range(1000):\n",
    "    smlp = df_exclude_terminal.sample(frac=1, replace=True)\n",
    "    ms = getMutSpec12(smlp)\n",
    "    sampling_ms_et.append(ms)"
   ]
  },
  {
   "cell_type": "code",
   "execution_count": 39,
   "id": "70121a1c",
   "metadata": {},
   "outputs": [],
   "source": [
    "df_sampling_et = pd.concat(sampling_ms_et)"
   ]
  },
  {
   "cell_type": "code",
   "execution_count": 40,
   "id": "636b7cb3",
   "metadata": {},
   "outputs": [
    {
     "data": {
      "text/plain": [
       "[Text(0.5, 1.0, 'MutSpec boot exclude terminals')]"
      ]
     },
     "execution_count": 40,
     "metadata": {},
     "output_type": "execute_result"
    },
    {
     "data": {
      "image/png": "[encoded data removed]",
      "text/plain": [
       "<Figure size 640x480 with 1 Axes>"
      ]
     },
     "metadata": {},
     "output_type": "display_data"
    }
   ],
   "source": [
    "sns.barplot(data=df_sampling_et, x='MutHeavy', y='MutSpec', order=sbs12_ordered, palette=color_mapping12, ci='sd') \\\n",
    "    .set(title='MutSpec boot exclude terminals')"
   ]
  },
  {
   "cell_type": "markdown",
   "id": "4477a3dd",
   "metadata": {},
   "source": [
    "___"
   ]
  },
  {
   "cell_type": "markdown",
   "id": "e7e8318c",
   "metadata": {},
   "source": [
    "# Cancer"
   ]
  },
  {
   "cell_type": "markdown",
   "id": "a7dff1cd",
   "metadata": {},
   "source": [
    "**Data from cancer dataset:**  \n",
    "(https://github.com/mitoclub/mtdnaMutSpecOfCancers/blob/main/data/processed/mutations.csv)"
   ]
  },
  {
   "cell_type": "code",
   "execution_count": 44,
   "id": "943611f1",
   "metadata": {},
   "outputs": [],
   "source": [
    "df_canser = pd.read_csv(r'C:\\Users\\777\\Downloads\\canser_mutations.csv')"
   ]
  },
  {
   "cell_type": "code",
   "execution_count": 45,
   "id": "06f2d626",
   "metadata": {},
   "outputs": [
    {
     "data": {
      "text/html": [
       "<div>\n",
       "<style scoped>\n",
       "    .dataframe tbody tr th:only-of-type {\n",
       "        vertical-align: middle;\n",
       "    }\n",
       "\n",
       "    .dataframe tbody tr th {\n",
       "        vertical-align: top;\n",
       "    }\n",
       "\n",
       "    .dataframe thead th {\n",
       "        text-align: right;\n",
       "    }\n",
       "</style>\n",
       "<table border=\"1\" class=\"dataframe\">\n",
       "  <thead>\n",
       "    <tr style=\"text-align: right;\">\n",
       "      <th></th>\n",
       "      <th>tissue</th>\n",
       "      <th>TurnOverDays</th>\n",
       "      <th>tumor_var_freq</th>\n",
       "      <th>Pos</th>\n",
       "      <th>Nuc</th>\n",
       "      <th>Context</th>\n",
       "      <th>Strand</th>\n",
       "      <th>Type</th>\n",
       "      <th>GeneName</th>\n",
       "      <th>PosInGene</th>\n",
       "      <th>PosInCodon</th>\n",
       "      <th>Codon</th>\n",
       "      <th>TBSS</th>\n",
       "      <th>AltCodon</th>\n",
       "      <th>Label</th>\n",
       "      <th>Mut</th>\n",
       "    </tr>\n",
       "  </thead>\n",
       "  <tbody>\n",
       "    <tr>\n",
       "      <th>0</th>\n",
       "      <td>Bladder</td>\n",
       "      <td>200.0</td>\n",
       "      <td>38.7900</td>\n",
       "      <td>2680</td>\n",
       "      <td>T</td>\n",
       "      <td>TTG</td>\n",
       "      <td>1</td>\n",
       "      <td>rRNA</td>\n",
       "      <td>RNR2</td>\n",
       "      <td>-1</td>\n",
       "      <td>-1</td>\n",
       "      <td>NaN</td>\n",
       "      <td>10487.0</td>\n",
       "      <td>NaN</td>\n",
       "      <td>0</td>\n",
       "      <td>T[T&gt;C]G</td>\n",
       "    </tr>\n",
       "    <tr>\n",
       "      <th>1</th>\n",
       "      <td>Pancreas</td>\n",
       "      <td>360.0</td>\n",
       "      <td>21.0500</td>\n",
       "      <td>2680</td>\n",
       "      <td>T</td>\n",
       "      <td>TTG</td>\n",
       "      <td>1</td>\n",
       "      <td>rRNA</td>\n",
       "      <td>RNR2</td>\n",
       "      <td>-1</td>\n",
       "      <td>-1</td>\n",
       "      <td>NaN</td>\n",
       "      <td>10487.0</td>\n",
       "      <td>NaN</td>\n",
       "      <td>0</td>\n",
       "      <td>T[T&gt;C]G</td>\n",
       "    </tr>\n",
       "    <tr>\n",
       "      <th>2</th>\n",
       "      <td>Bladder</td>\n",
       "      <td>200.0</td>\n",
       "      <td>10.1400</td>\n",
       "      <td>6011</td>\n",
       "      <td>T</td>\n",
       "      <td>TTA</td>\n",
       "      <td>1</td>\n",
       "      <td>CDS</td>\n",
       "      <td>COX1</td>\n",
       "      <td>108</td>\n",
       "      <td>3</td>\n",
       "      <td>CTT</td>\n",
       "      <td>426.0</td>\n",
       "      <td>CTC</td>\n",
       "      <td>2</td>\n",
       "      <td>T[T&gt;C]A</td>\n",
       "    </tr>\n",
       "    <tr>\n",
       "      <th>3</th>\n",
       "      <td>Bladder</td>\n",
       "      <td>200.0</td>\n",
       "      <td>37.3900</td>\n",
       "      <td>7706</td>\n",
       "      <td>G</td>\n",
       "      <td>TGC</td>\n",
       "      <td>1</td>\n",
       "      <td>CDS</td>\n",
       "      <td>COX2</td>\n",
       "      <td>121</td>\n",
       "      <td>1</td>\n",
       "      <td>GCC</td>\n",
       "      <td>3816.0</td>\n",
       "      <td>ACC</td>\n",
       "      <td>0</td>\n",
       "      <td>T[G&gt;A]C</td>\n",
       "    </tr>\n",
       "    <tr>\n",
       "      <th>4</th>\n",
       "      <td>Esophagus</td>\n",
       "      <td>11.0</td>\n",
       "      <td>0.7013</td>\n",
       "      <td>7706</td>\n",
       "      <td>G</td>\n",
       "      <td>TGC</td>\n",
       "      <td>1</td>\n",
       "      <td>CDS</td>\n",
       "      <td>COX2</td>\n",
       "      <td>121</td>\n",
       "      <td>1</td>\n",
       "      <td>GCC</td>\n",
       "      <td>3816.0</td>\n",
       "      <td>ACC</td>\n",
       "      <td>0</td>\n",
       "      <td>T[G&gt;A]C</td>\n",
       "    </tr>\n",
       "  </tbody>\n",
       "</table>\n",
       "</div>"
      ],
      "text/plain": [
       "      tissue  TurnOverDays  tumor_var_freq   Pos Nuc Context  Strand  Type  \\\n",
       "0    Bladder         200.0         38.7900  2680   T     TTG       1  rRNA   \n",
       "1   Pancreas         360.0         21.0500  2680   T     TTG       1  rRNA   \n",
       "2    Bladder         200.0         10.1400  6011   T     TTA       1   CDS   \n",
       "3    Bladder         200.0         37.3900  7706   G     TGC       1   CDS   \n",
       "4  Esophagus          11.0          0.7013  7706   G     TGC       1   CDS   \n",
       "\n",
       "  GeneName  PosInGene  PosInCodon Codon     TBSS AltCodon  Label      Mut  \n",
       "0     RNR2         -1          -1   NaN  10487.0      NaN      0  T[T>C]G  \n",
       "1     RNR2         -1          -1   NaN  10487.0      NaN      0  T[T>C]G  \n",
       "2     COX1        108           3   CTT    426.0      CTC      2  T[T>C]A  \n",
       "3     COX2        121           1   GCC   3816.0      ACC      0  T[G>A]C  \n",
       "4     COX2        121           1   GCC   3816.0      ACC      0  T[G>A]C  "
      ]
     },
     "execution_count": 45,
     "metadata": {},
     "output_type": "execute_result"
    }
   ],
   "source": [
    "df_canser.head()"
   ]
  },
  {
   "cell_type": "markdown",
   "id": "866b327b",
   "metadata": {},
   "source": [
    "**Extract only D-loop and only mutations from ['Mut'] column:**"
   ]
  },
  {
   "cell_type": "code",
   "execution_count": 46,
   "id": "33c65030",
   "metadata": {},
   "outputs": [],
   "source": [
    "df_can_d_loop = df_canser[df_canser['Type'] == 'D-loop']"
   ]
  },
  {
   "cell_type": "code",
   "execution_count": 47,
   "id": "18a226e6",
   "metadata": {},
   "outputs": [
    {
     "name": "stderr",
     "output_type": "stream",
     "text": [
      "C:\\Users\\777\\AppData\\Local\\Temp\\ipykernel_15284\\3979032511.py:1: SettingWithCopyWarning: \n",
      "A value is trying to be set on a copy of a slice from a DataFrame.\n",
      "Try using .loc[row_indexer,col_indexer] = value instead\n",
      "\n",
      "See the caveats in the documentation: https://pandas.pydata.org/pandas-docs/stable/user_guide/indexing.html#returning-a-view-versus-a-copy\n",
      "  df_can_d_loop['Mut'] = df_can_d_loop['Mut'].str[2:5]\n"
     ]
    }
   ],
   "source": [
    "df_can_d_loop['Mut'] = df_can_d_loop['Mut'].str[2:5]"
   ]
  },
  {
   "cell_type": "code",
   "execution_count": 49,
   "id": "95ab260a",
   "metadata": {},
   "outputs": [
    {
     "data": {
      "text/html": [
       "<div>\n",
       "<style scoped>\n",
       "    .dataframe tbody tr th:only-of-type {\n",
       "        vertical-align: middle;\n",
       "    }\n",
       "\n",
       "    .dataframe tbody tr th {\n",
       "        vertical-align: top;\n",
       "    }\n",
       "\n",
       "    .dataframe thead th {\n",
       "        text-align: right;\n",
       "    }\n",
       "</style>\n",
       "<table border=\"1\" class=\"dataframe\">\n",
       "  <thead>\n",
       "    <tr style=\"text-align: right;\">\n",
       "      <th></th>\n",
       "      <th>tissue</th>\n",
       "      <th>TurnOverDays</th>\n",
       "      <th>tumor_var_freq</th>\n",
       "      <th>Pos</th>\n",
       "      <th>Nuc</th>\n",
       "      <th>Context</th>\n",
       "      <th>Strand</th>\n",
       "      <th>Type</th>\n",
       "      <th>GeneName</th>\n",
       "      <th>PosInGene</th>\n",
       "      <th>PosInCodon</th>\n",
       "      <th>Codon</th>\n",
       "      <th>TBSS</th>\n",
       "      <th>AltCodon</th>\n",
       "      <th>Label</th>\n",
       "      <th>Mut</th>\n",
       "    </tr>\n",
       "  </thead>\n",
       "  <tbody>\n",
       "    <tr>\n",
       "      <th>19</th>\n",
       "      <td>Bladder</td>\n",
       "      <td>200.0</td>\n",
       "      <td>1.14</td>\n",
       "      <td>152</td>\n",
       "      <td>T</td>\n",
       "      <td>CTA</td>\n",
       "      <td>-1</td>\n",
       "      <td>D-loop</td>\n",
       "      <td>NaN</td>\n",
       "      <td>-1</td>\n",
       "      <td>-1</td>\n",
       "      <td>NaN</td>\n",
       "      <td>NaN</td>\n",
       "      <td>NaN</td>\n",
       "      <td>0</td>\n",
       "      <td>T&gt;C</td>\n",
       "    </tr>\n",
       "    <tr>\n",
       "      <th>20</th>\n",
       "      <td>Bone/SoftTissue</td>\n",
       "      <td>5373.0</td>\n",
       "      <td>57.94</td>\n",
       "      <td>152</td>\n",
       "      <td>T</td>\n",
       "      <td>CTA</td>\n",
       "      <td>-1</td>\n",
       "      <td>D-loop</td>\n",
       "      <td>NaN</td>\n",
       "      <td>-1</td>\n",
       "      <td>-1</td>\n",
       "      <td>NaN</td>\n",
       "      <td>NaN</td>\n",
       "      <td>NaN</td>\n",
       "      <td>0</td>\n",
       "      <td>T&gt;C</td>\n",
       "    </tr>\n",
       "    <tr>\n",
       "      <th>21</th>\n",
       "      <td>Breast</td>\n",
       "      <td>84.5</td>\n",
       "      <td>1.01</td>\n",
       "      <td>152</td>\n",
       "      <td>T</td>\n",
       "      <td>CTA</td>\n",
       "      <td>-1</td>\n",
       "      <td>D-loop</td>\n",
       "      <td>NaN</td>\n",
       "      <td>-1</td>\n",
       "      <td>-1</td>\n",
       "      <td>NaN</td>\n",
       "      <td>NaN</td>\n",
       "      <td>NaN</td>\n",
       "      <td>0</td>\n",
       "      <td>T&gt;C</td>\n",
       "    </tr>\n",
       "    <tr>\n",
       "      <th>22</th>\n",
       "      <td>Lymphoid</td>\n",
       "      <td>30.0</td>\n",
       "      <td>1.43</td>\n",
       "      <td>152</td>\n",
       "      <td>T</td>\n",
       "      <td>CTA</td>\n",
       "      <td>-1</td>\n",
       "      <td>D-loop</td>\n",
       "      <td>NaN</td>\n",
       "      <td>-1</td>\n",
       "      <td>-1</td>\n",
       "      <td>NaN</td>\n",
       "      <td>NaN</td>\n",
       "      <td>NaN</td>\n",
       "      <td>0</td>\n",
       "      <td>T&gt;C</td>\n",
       "    </tr>\n",
       "    <tr>\n",
       "      <th>23</th>\n",
       "      <td>Prostate</td>\n",
       "      <td>120.0</td>\n",
       "      <td>12.28</td>\n",
       "      <td>152</td>\n",
       "      <td>T</td>\n",
       "      <td>CTA</td>\n",
       "      <td>-1</td>\n",
       "      <td>D-loop</td>\n",
       "      <td>NaN</td>\n",
       "      <td>-1</td>\n",
       "      <td>-1</td>\n",
       "      <td>NaN</td>\n",
       "      <td>NaN</td>\n",
       "      <td>NaN</td>\n",
       "      <td>0</td>\n",
       "      <td>T&gt;C</td>\n",
       "    </tr>\n",
       "  </tbody>\n",
       "</table>\n",
       "</div>"
      ],
      "text/plain": [
       "             tissue  TurnOverDays  tumor_var_freq  Pos Nuc Context  Strand  \\\n",
       "19          Bladder         200.0            1.14  152   T     CTA      -1   \n",
       "20  Bone/SoftTissue        5373.0           57.94  152   T     CTA      -1   \n",
       "21           Breast          84.5            1.01  152   T     CTA      -1   \n",
       "22         Lymphoid          30.0            1.43  152   T     CTA      -1   \n",
       "23         Prostate         120.0           12.28  152   T     CTA      -1   \n",
       "\n",
       "      Type GeneName  PosInGene  PosInCodon Codon  TBSS AltCodon  Label  Mut  \n",
       "19  D-loop      NaN         -1          -1   NaN   NaN      NaN      0  T>C  \n",
       "20  D-loop      NaN         -1          -1   NaN   NaN      NaN      0  T>C  \n",
       "21  D-loop      NaN         -1          -1   NaN   NaN      NaN      0  T>C  \n",
       "22  D-loop      NaN         -1          -1   NaN   NaN      NaN      0  T>C  \n",
       "23  D-loop      NaN         -1          -1   NaN   NaN      NaN      0  T>C  "
      ]
     },
     "execution_count": 49,
     "metadata": {},
     "output_type": "execute_result"
    }
   ],
   "source": [
    "df_can_d_loop.head()"
   ]
  },
  {
   "cell_type": "markdown",
   "id": "a9be674c",
   "metadata": {},
   "source": [
    "**Count observed mutations in D-loop in cancers in different tissues:**"
   ]
  },
  {
   "cell_type": "code",
   "execution_count": 50,
   "id": "b9005105",
   "metadata": {},
   "outputs": [],
   "source": [
    "observed_mut_can = df_can_d_loop.groupby(['tissue', 'TurnOverDays', 'Mut'], as_index=False) \\\n",
    "    .agg({'Pos':'count'}) \\\n",
    "    .rename(columns={'Pos':'ObsNum'}) \\\n",
    "    .sort_values('Mut')"
   ]
  },
  {
   "cell_type": "code",
   "execution_count": 51,
   "id": "efc8e195",
   "metadata": {},
   "outputs": [
    {
     "data": {
      "text/plain": [
       "Liver              11\n",
       "Kidney             10\n",
       "Stomach            10\n",
       "Breast              9\n",
       "Colon/Rectum        9\n",
       "CNS                 8\n",
       "Pancreas            8\n",
       "Skin                7\n",
       "Lymphoid            7\n",
       "Thyroid             6\n",
       "Head/Neck           6\n",
       "Prostate            6\n",
       "Esophagus           6\n",
       "Bladder             6\n",
       "Lung                5\n",
       "Ovary               5\n",
       "Biliary             4\n",
       "Myeloid             4\n",
       "Bone/SoftTissue     4\n",
       "Uterus              3\n",
       "Cervix              3\n",
       "Name: tissue, dtype: int64"
      ]
     },
     "execution_count": 51,
     "metadata": {},
     "output_type": "execute_result"
    }
   ],
   "source": [
    "observed_mut_can.tissue.value_counts()"
   ]
  },
  {
   "cell_type": "markdown",
   "id": "09bb0a7c",
   "metadata": {},
   "source": [
    "Mutations in D-loop less than 12 for each tissue  \n",
    "\n",
    "**Count MutSpec for all tissues:**"
   ]
  },
  {
   "cell_type": "code",
   "execution_count": 54,
   "id": "e889ed24",
   "metadata": {},
   "outputs": [],
   "source": [
    "observed_mut_can_all = df_can_d_loop.groupby(['Mut'], as_index=False) \\\n",
    "    .agg({'Pos':'count'}) \\\n",
    "    .rename(columns={'Pos':'ObsNum'}) \\\n",
    "    .sort_values('Mut')"
   ]
  },
  {
   "cell_type": "code",
   "execution_count": 55,
   "id": "a645de0d",
   "metadata": {},
   "outputs": [],
   "source": [
    "expect_num = dict(ref_D_loop.sort_index())\n",
    "observed_mut_can_all[\"ExpNum\"] = observed_mut_can_all[\"Mut\"].str[0]\n",
    "observed_mut_can_all[\"ExpNum\"] = observed_mut_can_all[\"ExpNum\"].replace(expect_num)\n",
    "\n",
    "observed_mut_can_all['MutSpec'] = observed_mut_can_all[\"ObsNum\"] / observed_mut_can_all[\"ExpNum\"]\n",
    "observed_mut_can_all[\"MutSpec\"] = observed_mut_can_all[\"MutSpec\"] / observed_mut_can_all[\"MutSpec\"].sum()\n",
    "\n",
    "observed_mut_can_all[\"MutHeavy\"] = observed_mut_can_all[\"Mut\"].str.translate(complementator)"
   ]
  },
  {
   "cell_type": "code",
   "execution_count": 56,
   "id": "58352e66",
   "metadata": {},
   "outputs": [
    {
     "data": {
      "text/html": [
       "<div>\n",
       "<style scoped>\n",
       "    .dataframe tbody tr th:only-of-type {\n",
       "        vertical-align: middle;\n",
       "    }\n",
       "\n",
       "    .dataframe tbody tr th {\n",
       "        vertical-align: top;\n",
       "    }\n",
       "\n",
       "    .dataframe thead th {\n",
       "        text-align: right;\n",
       "    }\n",
       "</style>\n",
       "<table border=\"1\" class=\"dataframe\">\n",
       "  <thead>\n",
       "    <tr style=\"text-align: right;\">\n",
       "      <th></th>\n",
       "      <th>Mut</th>\n",
       "      <th>ObsNum</th>\n",
       "      <th>ExpNum</th>\n",
       "      <th>MutSpec</th>\n",
       "      <th>MutHeavy</th>\n",
       "    </tr>\n",
       "  </thead>\n",
       "  <tbody>\n",
       "    <tr>\n",
       "      <th>0</th>\n",
       "      <td>A&gt;C</td>\n",
       "      <td>11</td>\n",
       "      <td>339</td>\n",
       "      <td>0.008344</td>\n",
       "      <td>T&gt;G</td>\n",
       "    </tr>\n",
       "    <tr>\n",
       "      <th>1</th>\n",
       "      <td>A&gt;G</td>\n",
       "      <td>131</td>\n",
       "      <td>339</td>\n",
       "      <td>0.099366</td>\n",
       "      <td>T&gt;C</td>\n",
       "    </tr>\n",
       "    <tr>\n",
       "      <th>2</th>\n",
       "      <td>A&gt;T</td>\n",
       "      <td>7</td>\n",
       "      <td>339</td>\n",
       "      <td>0.005310</td>\n",
       "      <td>T&gt;A</td>\n",
       "    </tr>\n",
       "    <tr>\n",
       "      <th>3</th>\n",
       "      <td>C&gt;A</td>\n",
       "      <td>42</td>\n",
       "      <td>371</td>\n",
       "      <td>0.029110</td>\n",
       "      <td>G&gt;T</td>\n",
       "    </tr>\n",
       "    <tr>\n",
       "      <th>4</th>\n",
       "      <td>C&gt;G</td>\n",
       "      <td>6</td>\n",
       "      <td>371</td>\n",
       "      <td>0.004159</td>\n",
       "      <td>G&gt;C</td>\n",
       "    </tr>\n",
       "    <tr>\n",
       "      <th>5</th>\n",
       "      <td>C&gt;T</td>\n",
       "      <td>300</td>\n",
       "      <td>371</td>\n",
       "      <td>0.207928</td>\n",
       "      <td>G&gt;A</td>\n",
       "    </tr>\n",
       "    <tr>\n",
       "      <th>6</th>\n",
       "      <td>G&gt;A</td>\n",
       "      <td>211</td>\n",
       "      <td>152</td>\n",
       "      <td>0.356947</td>\n",
       "      <td>C&gt;T</td>\n",
       "    </tr>\n",
       "    <tr>\n",
       "      <th>7</th>\n",
       "      <td>G&gt;C</td>\n",
       "      <td>7</td>\n",
       "      <td>152</td>\n",
       "      <td>0.011842</td>\n",
       "      <td>C&gt;G</td>\n",
       "    </tr>\n",
       "    <tr>\n",
       "      <th>8</th>\n",
       "      <td>G&gt;T</td>\n",
       "      <td>17</td>\n",
       "      <td>152</td>\n",
       "      <td>0.028759</td>\n",
       "      <td>C&gt;A</td>\n",
       "    </tr>\n",
       "    <tr>\n",
       "      <th>9</th>\n",
       "      <td>T&gt;A</td>\n",
       "      <td>6</td>\n",
       "      <td>260</td>\n",
       "      <td>0.005934</td>\n",
       "      <td>A&gt;T</td>\n",
       "    </tr>\n",
       "    <tr>\n",
       "      <th>10</th>\n",
       "      <td>T&gt;C</td>\n",
       "      <td>236</td>\n",
       "      <td>260</td>\n",
       "      <td>0.233402</td>\n",
       "      <td>A&gt;G</td>\n",
       "    </tr>\n",
       "    <tr>\n",
       "      <th>11</th>\n",
       "      <td>T&gt;G</td>\n",
       "      <td>9</td>\n",
       "      <td>260</td>\n",
       "      <td>0.008901</td>\n",
       "      <td>A&gt;C</td>\n",
       "    </tr>\n",
       "  </tbody>\n",
       "</table>\n",
       "</div>"
      ],
      "text/plain": [
       "    Mut  ObsNum  ExpNum   MutSpec MutHeavy\n",
       "0   A>C      11     339  0.008344      T>G\n",
       "1   A>G     131     339  0.099366      T>C\n",
       "2   A>T       7     339  0.005310      T>A\n",
       "3   C>A      42     371  0.029110      G>T\n",
       "4   C>G       6     371  0.004159      G>C\n",
       "5   C>T     300     371  0.207928      G>A\n",
       "6   G>A     211     152  0.356947      C>T\n",
       "7   G>C       7     152  0.011842      C>G\n",
       "8   G>T      17     152  0.028759      C>A\n",
       "9   T>A       6     260  0.005934      A>T\n",
       "10  T>C     236     260  0.233402      A>G\n",
       "11  T>G       9     260  0.008901      A>C"
      ]
     },
     "execution_count": 56,
     "metadata": {},
     "output_type": "execute_result"
    }
   ],
   "source": [
    "observed_mut_can_all"
   ]
  },
  {
   "cell_type": "code",
   "execution_count": 57,
   "id": "e9dc4649",
   "metadata": {},
   "outputs": [
    {
     "data": {
      "text/plain": [
       "[Text(0.5, 1.0, 'MutSpec cancer')]"
      ]
     },
     "execution_count": 57,
     "metadata": {},
     "output_type": "execute_result"
    },
    {
     "data": {
      "image/png": "[encoded data removed]",
      "text/plain": [
       "<Figure size 640x480 with 1 Axes>"
      ]
     },
     "metadata": {},
     "output_type": "display_data"
    }
   ],
   "source": [
    "sns.barplot(data=observed_mut_can_all, x='MutHeavy', y='MutSpec', order=sbs12_ordered, palette=color_mapping12) \\\n",
    "    .set(title='MutSpec cancer')"
   ]
  },
  {
   "cell_type": "markdown",
   "id": "e3a3ff58",
   "metadata": {},
   "source": [
    "## Sampling for cancer"
   ]
  },
  {
   "cell_type": "code",
   "execution_count": 58,
   "id": "7b5ef695",
   "metadata": {
    "scrolled": false
   },
   "outputs": [],
   "source": [
    "sampling_ms_can = []\n",
    "for i in range(1000):\n",
    "    smlp = df_can_d_loop.sample(frac=1, replace=True)\n",
    "    ms = smlp.groupby(['Mut'], as_index=False) \\\n",
    "    .agg({'Pos':'count'}) \\\n",
    "    .rename(columns={'Pos':'ObsNum'}) \\\n",
    "    .sort_values('Mut')\n",
    "    \n",
    "    ms[\"ExpNum\"] = ms[\"Mut\"].str[0]\n",
    "    ms[\"ExpNum\"] = ms[\"ExpNum\"].replace(expect_num)\n",
    "\n",
    "    ms['MutSpec'] = ms[\"ObsNum\"] / ms[\"ExpNum\"]\n",
    "    ms[\"MutSpec\"] = ms[\"MutSpec\"] / ms[\"MutSpec\"].sum()\n",
    "\n",
    "    ms[\"MutHeavy\"] = ms[\"Mut\"].str.translate(complementator)\n",
    "    \n",
    "    sampling_ms_can.append(ms)"
   ]
  },
  {
   "cell_type": "code",
   "execution_count": 59,
   "id": "96d2b747",
   "metadata": {},
   "outputs": [],
   "source": [
    "df_sampling_can = pd.concat(sampling_ms_can)"
   ]
  },
  {
   "cell_type": "code",
   "execution_count": 60,
   "id": "307bdd32",
   "metadata": {},
   "outputs": [
    {
     "data": {
      "text/plain": [
       "[Text(0.5, 1.0, 'MutSpec boot cancer')]"
      ]
     },
     "execution_count": 60,
     "metadata": {},
     "output_type": "execute_result"
    },
    {
     "data": {
      "image/png": "[encoded data removed]",
      "text/plain": [
       "<Figure size 640x480 with 1 Axes>"
      ]
     },
     "metadata": {},
     "output_type": "display_data"
    }
   ],
   "source": [
    "sns.barplot(data=df_sampling_can, x='MutHeavy', y='MutSpec', order=sbs12_ordered, palette=color_mapping12, ci='sd') \\\n",
    "    .set(title='MutSpec boot cancer')"
   ]
  },
  {
   "cell_type": "code",
   "execution_count": null,
   "id": "9482ba8a",
   "metadata": {},
   "outputs": [],
   "source": []
  }
 ],
 "metadata": {
  "kernelspec": {
   "display_name": "Python 3 (ipykernel)",
   "language": "python",
   "name": "python3"
  },
  "language_info": {
   "codemirror_mode": {
    "name": "ipython",
    "version": 3
   },
   "file_extension": ".py",
   "mimetype": "text/x-python",
   "name": "python",
   "nbconvert_exporter": "python",
   "pygments_lexer": "ipython3",
   "version": "3.9.13"
  }
 },
 "nbformat": 4,
 "nbformat_minor": 5
}
